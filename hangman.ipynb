{
 "cells": [
  {
   "cell_type": "code",
   "execution_count": null,
   "id": "directed-islam",
   "metadata": {
    "scrolled": false
   },
   "outputs": [
    {
     "name": "stdout",
     "output_type": "stream",
     "text": [
      "_ _ _\n",
      "box\n",
      "Hangman - Guess the word before the turns run out!\n",
      "Guess a letter: \n",
      "b\n",
      "hidden b__\n",
      "b__\n",
      "Guess a letter: \n",
      "o\n",
      "hidden bo_\n",
      "bo_\n",
      "Guess a letter: \n",
      "x\n",
      "hidden box\n",
      "box\n"
     ]
    }
   ],
   "source": [
    "from random import randint\n",
    "word = [\"box\", \"tree\", \"fifteen\", \"more\", \"things\", \"queen\", \"king\", \"bystander\"]\n",
    "\n",
    "\n",
    "random_word = word[randint(0, len(word) - 1)]\n",
    "# random_word = 'more'\n",
    "\n",
    "\n",
    "guessed_letters = []\n",
    "correct_letters = []\n",
    "\n",
    "\n",
    "hidden_word = \"\"\n",
    "\n",
    "revealed_word = \"\"\n",
    "\n",
    "number_of_guesses = 6\n",
    "\n",
    "for i in random_word:\n",
    "    hidden_word += \"_\"\n",
    "\n",
    "# Just makes it nicer to display.    \n",
    "print(\" \".join(hidden_word))\n",
    "\n",
    "print(random_word)\n",
    "\n",
    "print(\"Hangman - Guess the word before the turns run out!\")\n",
    "while(number_of_guesses > 0):\n",
    "    player_guess = input(\"Guess a letter: \\n\")\n",
    "    \n",
    "    guessed_letters.append(player_guess)\n",
    "    \n",
    "    if player_guess in random_word:\n",
    "        for index, char in enumerate(random_word):\n",
    "            if char == player_guess:\n",
    "                hidden_word = hidden_word[:index] + player_guess + hidden_word[index + 1:]\n",
    "    elif player_guess not in random_word and player_guess in guessed_letters:\n",
    "        number_of_guesses -= 1\n",
    "    \n",
    "    print('hidden', hidden_word)\n",
    "    print(\"\".join(hidden_word))\n",
    "    \n",
    "    if number_of_guesses != 0 and random_word in revealed_word:\n",
    "        print(\"You won!\")\n",
    "        break\n",
    "    \n",
    "    if number_of_guesses == 0:\n",
    "        print(f\"I'm sorry you lost, this was the word: {random_word}\")\n",
    "        \n",
    "# print(correct_guesses)"
   ]
  },
  {
   "cell_type": "code",
   "execution_count": 10,
   "id": "acute-commodity",
   "metadata": {},
   "outputs": [
    {
     "name": "stdout",
     "output_type": "stream",
     "text": [
      "happy\n"
     ]
    }
   ],
   "source": [
    "random_word_a = 'happy'\n",
    "\n",
    "random_word_a = random_word_a[:1] + 'a' + random_word_a[2:]\n",
    "\n",
    "print(random_word_a)"
   ]
  },
  {
   "cell_type": "code",
   "execution_count": null,
   "id": "secret-implement",
   "metadata": {},
   "outputs": [],
   "source": []
  }
 ],
 "metadata": {
  "kernelspec": {
   "display_name": "Python 3",
   "language": "python",
   "name": "python3"
  },
  "language_info": {
   "codemirror_mode": {
    "name": "ipython",
    "version": 3
   },
   "file_extension": ".py",
   "mimetype": "text/x-python",
   "name": "python",
   "nbconvert_exporter": "python",
   "pygments_lexer": "ipython3",
   "version": "3.9.0"
  }
 },
 "nbformat": 4,
 "nbformat_minor": 5
}
