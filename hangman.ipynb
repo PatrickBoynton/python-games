{
 "cells": [
  {
   "cell_type": "code",
   "execution_count": null,
   "id": "cellular-european",
   "metadata": {
    "scrolled": false
   },
   "outputs": [
    {
     "name": "stdout",
     "output_type": "stream",
     "text": [
      "_ _ _ _ _ _ _ _ _\n",
      "bystander\n",
      "Guess a letter: \n",
      "b\n",
      "b\n",
      "Guess a letter: \n",
      "b\n",
      "b b\n",
      "Guess a letter: \n",
      "b\n",
      "b b b\n",
      "Guess a letter: \n",
      "b\n",
      "b b b b\n",
      "Guess a letter: \n",
      "b\n",
      "b b b b b\n",
      "Guess a letter: \n",
      "b\n",
      "b b b b b b\n",
      "Guess a letter: \n",
      "b\n",
      "b b b b b b b\n"
     ]
    }
   ],
   "source": [
    "from random import randint\n",
    "word = [\"box\", \"tree\", \"fifteen\", \"more\", \"things\", \"queen\", \"king\", \"bystander\"]\n",
    "\n",
    "\n",
    "random_word = word[randint(0, len(word) - 1)]\n",
    "\n",
    "guessed_letters = []\n",
    "\n",
    "hidden_word = \"\"\n",
    "\n",
    "revealed_word = \"\"\n",
    "\n",
    "number_of_guesses = 6\n",
    "\n",
    "for i in random_word:\n",
    "    hidden_word += \"_\"\n",
    "\n",
    "# Just makes it nicer to display.    \n",
    "print(\" \".join(hidden_word))\n",
    "\n",
    "print(random_word)\n",
    "\n",
    "\n",
    "while(number_of_guesses > 0):\n",
    "    player_guess = input(\"Guess a letter: \\n\")\n",
    "    \n",
    "    guessed_letters.append(player_guess)\n",
    "    \n",
    "    if player_guess in random_word:\n",
    "        revealed_word += hidden_word[random_word.index(player_guess)].replace(\"_\", player_guess)\n",
    "        print(\" \".join(revealed_word))\n",
    "    elif player_guess not in random_word and player_guess in guessed_letters:\n",
    "        number_of_guesses -= 1\n",
    "    \n",
    "    if number_of_guesses != 0 and random_word == revealed_word:\n",
    "        print(\"You won!\")\n",
    "        break\n",
    "    \n",
    "    if number_of_guesses == 0:\n",
    "        print(f\"I'm sorry you lost, this was the word: {random_word}\")"
   ]
  },
  {
   "cell_type": "code",
   "execution_count": null,
   "id": "organizational-upper",
   "metadata": {},
   "outputs": [],
   "source": []
  }
 ],
 "metadata": {
  "kernelspec": {
   "display_name": "Python 3",
   "language": "python",
   "name": "python3"
  }
 },
 "nbformat": 4,
 "nbformat_minor": 5
}
