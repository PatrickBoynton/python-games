{
 "cells": [
  {
   "cell_type": "code",
   "execution_count": 3,
   "id": "cellular-european",
   "metadata": {
    "scrolled": false
   },
   "outputs": [
    {
     "name": "stdout",
     "output_type": "stream",
     "text": [
      "_ _ _ _ _ _ _ _ _\n",
      "Hangman - Guess the word before the turns run out!\n",
      "Guess a letter: \n",
      "b\n",
      "b\n",
      "Guess a letter: \n",
      "y\n",
      "b y\n",
      "Guess a letter: \n",
      "s\n",
      "b y s\n",
      "Guess a letter: \n",
      "t\n",
      "b y s t\n",
      "Guess a letter: \n",
      "a\n",
      "b y s t a\n",
      "Guess a letter: \n",
      "n\n",
      "b y s t a n\n",
      "Guess a letter: \n",
      "d\n",
      "b y s t a n d\n",
      "Guess a letter: \n",
      "e\n",
      "b y s t a n d e\n",
      "Guess a letter: \n",
      "r\n",
      "b y s t a n d e r\n",
      "You won!\n"
     ]
    }
   ],
   "source": [
    "from random import randint\n",
    "word = [\"box\", \"tree\", \"fifteen\", \"more\", \"things\", \"queen\", \"king\", \"bystander\"]\n",
    "\n",
    "\n",
    "random_word = word[randint(0, len(word) - 1)]\n",
    "\n",
    "guessed_letters = []\n",
    "\n",
    "hidden_word = \"\"\n",
    "\n",
    "revealed_word = \"\"\n",
    "\n",
    "number_of_guesses = 6\n",
    "\n",
    "for i in random_word:\n",
    "    hidden_word += \"_\"\n",
    "\n",
    "# Just makes it nicer to display.    \n",
    "print(\" \".join(hidden_word))\n",
    "\n",
    "# print(random_word)\n",
    "\n",
    "print(\"Hangman - Guess the word before the turns run out!\")\n",
    "while(number_of_guesses > 0):\n",
    "    player_guess = input(\"Guess a letter: \\n\")\n",
    "    \n",
    "    guessed_letters.append(player_guess)\n",
    "    \n",
    "    if player_guess in random_word:\n",
    "        revealed_word += hidden_word[random_word.index(player_guess)].replace(\"_\", player_guess)\n",
    "        print(\" \".join(revealed_word))\n",
    "    elif player_guess not in random_word and player_guess in guessed_letters:\n",
    "        number_of_guesses -= 1\n",
    "    \n",
    "    if number_of_guesses != 0 and random_word == revealed_word:\n",
    "        print(\"You won!\")\n",
    "        break\n",
    "    \n",
    "    if number_of_guesses == 0:\n",
    "        print(f\"I'm sorry you lost, this was the word: {random_word}\")"
   ]
  },
  {
   "cell_type": "code",
   "execution_count": null,
   "id": "checked-authentication",
   "metadata": {},
   "outputs": [],
   "source": []
  }
 ],
 "metadata": {
  "kernelspec": {
   "display_name": "Python 3",
   "language": "python",
   "name": "python3"
  },
  "language_info": {
   "codemirror_mode": {
    "name": "ipython",
    "version": 3
   },
   "file_extension": ".py",
   "mimetype": "text/x-python",
   "name": "python",
   "nbconvert_exporter": "python",
   "pygments_lexer": "ipython3",
   "version": "3.9.0"
  }
 },
 "nbformat": 4,
 "nbformat_minor": 5
}
