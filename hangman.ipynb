{
 "cells": [
  {
   "cell_type": "code",
   "execution_count": null,
   "id": "cellular-european",
   "metadata": {
    "scrolled": false
   },
   "outputs": [
    {
     "name": "stdout",
     "output_type": "stream",
     "text": [
      "_ _ _ _ _ _ \n",
      "things\n",
      "Guess a letter: \n",
      "t\n",
      "_\n",
      "Guess a letter: \n",
      "h\n",
      " \n",
      "Guess a letter: \n",
      "i\n",
      "_\n",
      "Guess a letter: \n",
      "n\n",
      " \n",
      "Guess a letter: \n",
      "g\n",
      "_\n",
      "Guess a letter: \n",
      "s\n",
      " \n"
     ]
    }
   ],
   "source": [
    "from random import randint\n",
    "word = [\"box\", \"tree\", \"fifteen\", \"more\", \"things\", \"queen\", \"king\", \"bystander\"]\n",
    "\n",
    "\n",
    "random_word = word[randint(0, len(word) - 1)]\n",
    "guessed_letters = []\n",
    "\n",
    "hidden_word = \"\"\n",
    "revealed_word = \"\"\n",
    "for i in random_word:\n",
    "    hidden_word += \"_ \"\n",
    "\n",
    "    \n",
    "print(hidden_word)\n",
    "\n",
    "print(random_word)\n",
    "\n",
    "test = random_word.join(\" \")\n",
    "\n",
    "while(True):\n",
    "    player_guess = input(\"Guess a letter: \\n\")\n",
    "    \n",
    "    if player_guess in random_word:\n",
    "        print(hidden_word[random_word.index(player_guess)])"
   ]
  },
  {
   "cell_type": "code",
   "execution_count": null,
   "id": "relevant-column",
   "metadata": {},
   "outputs": [],
   "source": []
  }
 ],
 "metadata": {
  "kernelspec": {
   "display_name": "Python 3",
   "language": "python",
   "name": "python3"
  }
 },
 "nbformat": 4,
 "nbformat_minor": 5
}
