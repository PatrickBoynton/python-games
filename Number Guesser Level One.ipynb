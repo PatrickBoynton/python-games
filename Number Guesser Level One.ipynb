{
 "cells": [
  {
   "cell_type": "code",
   "execution_count": 30,
   "id": "visible-consultation",
   "metadata": {},
   "outputs": [
    {
     "name": "stdout",
     "output_type": "stream",
     "text": [
      "Please enter a number between 1 and 10:7\n",
      "Your guess is too high!\n",
      "Please enter a number between 1 and 10:2\n",
      "Your guess is too high!\n",
      "Please enter a number between 1 and 10:1\n",
      "Good job, the number was 1\n"
     ]
    }
   ],
   "source": [
    "from random import Random\n",
    "\n",
    "# The cpu guess\n",
    "cpu_guess = random.randint(1, 10)\n",
    "\n",
    "# The number of guesses\n",
    "turns = 3\n",
    "\n",
    "while(turns > 0):\n",
    "    # User guess.    \n",
    "    user_guess = input(\"Please enter a number between 1 and 10:\")\n",
    "    if int(user_guess) > cpu_guess:\n",
    "        #  Decrements the guess by one on a miss.        \n",
    "        turns -= 1\n",
    "        print(\"Your guess is too high!\")\n",
    "    elif int(user_guess) < cpu_guess:\n",
    "        #  Decrements the guess by one on a miss.\n",
    "        turns -= 1\n",
    "        print(\"Your guess is too low!\")\n",
    "    else:\n",
    "        print(\"Good job, the number was \" + str(cpu_guess))\n",
    "        break\n",
    "    # If the user loses the game.        \n",
    "    if int(user_guess) != cpu_guess and turns == 0:\n",
    "        print(\"Sorry you lost! The correct number was: \" + str(cpu_guess))\n",
    "    \n",
    "        "
   ]
  },
  {
   "cell_type": "markdown",
   "id": "expanded-history",
   "metadata": {},
   "source": []
  }
 ],
 "metadata": {
  "kernelspec": {
   "display_name": "Python 3",
   "language": "python",
   "name": "python3"
  },
  "language_info": {
   "codemirror_mode": {
    "name": "ipython",
    "version": 3
   },
   "file_extension": ".py",
   "mimetype": "text/x-python",
   "name": "python",
   "nbconvert_exporter": "python",
   "pygments_lexer": "ipython3",
   "version": "3.9.0"
  }
 },
 "nbformat": 4,
 "nbformat_minor": 5
}
