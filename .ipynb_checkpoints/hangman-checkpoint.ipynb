{
 "cells": [
  {
   "cell_type": "code",
   "execution_count": null,
   "id": "cellular-european",
   "metadata": {
    "scrolled": false
   },
   "outputs": [
    {
     "name": "stdout",
     "output_type": "stream",
     "text": [
      "_ _ _ _ _ \n",
      "queen\n",
      "Guess a letter: \n",
      "q\n",
      "0\n",
      "_\n",
      "Guess a letter: \n",
      "u\n",
      "1\n",
      " \n",
      "Guess a letter: \n",
      "e\n",
      "2\n",
      "_\n",
      "Guess a letter: \n",
      "e\n",
      "2\n",
      "_\n",
      "Guess a letter: \n",
      "n\n",
      "4\n",
      "_\n"
     ]
    }
   ],
   "source": [
    "from random import randint\n",
    "word = [\"box\", \"tree\", \"fifteen\", \"more\", \"things\", \"queen\", \"king\", \"bystander\"]\n",
    "\n",
    "\n",
    "random_word = word[randint(0, len(word) - 1)]\n",
    "guessed_letters = []\n",
    "\n",
    "hidden_word = \"\"\n",
    "revealed_word = \"\"\n",
    "for i in random_word:\n",
    "    hidden_word += \"_\"\n",
    "\n",
    "print(hidden_word)\n",
    "\n",
    "print(random_word)\n",
    "while(True):\n",
    "    player_guess = input(\"Guess a letter: \\n\")\n",
    "    \n",
    "    if player_guess in random_word:\n",
    "        print(random_word.index(player_guess))\n",
    "        print(hidden_word[random_word.index(player_guess)])\n"
   ]
  },
  {
   "cell_type": "code",
   "execution_count": null,
   "id": "interior-virus",
   "metadata": {},
   "outputs": [],
   "source": []
  }
 ],
 "metadata": {
  "kernelspec": {
   "display_name": "Python 3",
   "language": "python",
   "name": "python3"
  },
  "language_info": {
   "codemirror_mode": {
    "name": "ipython",
    "version": 3
   },
   "file_extension": ".py",
   "mimetype": "text/x-python",
   "name": "python",
   "nbconvert_exporter": "python",
   "pygments_lexer": "ipython3",
   "version": "3.9.0"
  }
 },
 "nbformat": 4,
 "nbformat_minor": 5
}
