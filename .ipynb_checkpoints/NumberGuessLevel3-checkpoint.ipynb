{
 "cells": [
  {
   "cell_type": "code",
   "execution_count": 7,
   "id": "sharp-syndication",
   "metadata": {},
   "outputs": [
    {
     "name": "stdout",
     "output_type": "stream",
     "text": [
      "My guess is: 5\n",
      "Was my guess to (h)igh, (l)ow, or (c)orrect?h\n",
      "My new guess is: 3\n",
      "Was my guess to (h)igh, (l)ow, or (c)orrect?l\n",
      "My new guess is: 4\n",
      "Was my guess to (h)igh, (l)ow, or (c)orrect?c\n",
      "I got your number it is: 4\n"
     ]
    }
   ],
   "source": [
    "import random \n",
    "\n",
    "cpu_guess = round(maxNum / 2)\n",
    "minNum = 1\n",
    "maxNum = 10\n",
    "\n",
    "\n",
    "print(\"My guess is: \" + str(cpu_guess))\n",
    "\n",
    "while(True):\n",
    "    player_input = input(\"Was my guess to (h)igh, (l)ow, or (c)orrect?\")\n",
    "    # This is a binary search, it's a very efficent way of getting at a number.    \n",
    "    if(player_input == \"l\"):\n",
    "        # If the number is too low the new guess. \n",
    "        # will become half of 1 and 5.      \n",
    "        minNum = cpu_guess\n",
    "        cpu_guess = (maxNum + cpu_guess) // 2\n",
    "        print(f\"My new guess is: {cpu_guess}\")\n",
    "    elif(player_input == \"h\"):\n",
    "        # This is the opposite ot the top\n",
    "        maxNum = cpu_guess\n",
    "        cpu_guess = (minNum + cpu_guess) // 2\n",
    "        print(f\"My new guess is: {cpu_guess}\")\n",
    "    elif(player_input == \"c\"):\n",
    "        # This is the final score.\n",
    "        print(f\"I got your number it is: {cpu_guess}\")\n",
    "        break\n",
    "        "
   ]
  },
  {
   "cell_type": "code",
   "execution_count": null,
   "id": "naval-sullivan",
   "metadata": {},
   "outputs": [],
   "source": []
  }
 ],
 "metadata": {
  "kernelspec": {
   "display_name": "Python 3",
   "language": "python",
   "name": "python3"
  },
  "language_info": {
   "codemirror_mode": {
    "name": "ipython",
    "version": 3
   },
   "file_extension": ".py",
   "mimetype": "text/x-python",
   "name": "python",
   "nbconvert_exporter": "python",
   "pygments_lexer": "ipython3",
   "version": "3.9.0"
  }
 },
 "nbformat": 4,
 "nbformat_minor": 5
}
