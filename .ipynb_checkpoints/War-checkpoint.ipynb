{
 "cells": [
  {
   "cell_type": "code",
   "execution_count": 20,
   "id": "neural-roller",
   "metadata": {},
   "outputs": [
    {
     "name": "stdout",
     "output_type": "stream",
     "text": [
      "['Hearts', 'Diamonds', 'Clubs', 'Spades']\n",
      "[1, 2, 3, 4, 5, 6, 7, 8, 9, 10, 11, 12, 13]\n",
      "[]\n"
     ]
    }
   ],
   "source": [
    "# Card\n",
    "# Player\n",
    "# Game\n",
    "# Deck\n",
    "\n",
    "class Card:\n",
    "    def __init__(self):\n",
    "        self.suit = [\"Hearts\", \"Diamonds\", \"Clubs\", \"Spades\"]\n",
    "        self.value = [1,2,3,4,5,6,7,8,9,10,11,12,13]\n",
    "\n",
    "class Deck:\n",
    "    def __init__(self):\n",
    "        self.cards = []\n",
    "        \n",
    "    def build_deck(self):\n",
    "        new_card = Card()\n",
    "        \n",
    "        self.cards = [{k:v} for k, v in zip(new_card.suit, new_card.value)]\n",
    "                \n",
    "\n",
    "class Player:\n",
    "    pass\n",
    "\n",
    "class Game:\n",
    "    pass\n",
    "\n",
    "card = Card()\n",
    "deck = Deck()\n",
    "deck.build_deck()\n",
    "\n",
    "print(card.suit)\n",
    "print(card.value)\n",
    "print(deck.cards)"
   ]
  },
  {
   "cell_type": "code",
   "execution_count": null,
   "id": "fresh-female",
   "metadata": {},
   "outputs": [],
   "source": []
  }
 ],
 "metadata": {
  "kernelspec": {
   "display_name": "Python 3",
   "language": "python",
   "name": "python3"
  },
  "language_info": {
   "codemirror_mode": {
    "name": "ipython",
    "version": 3
   },
   "file_extension": ".py",
   "mimetype": "text/x-python",
   "name": "python",
   "nbconvert_exporter": "python",
   "pygments_lexer": "ipython3",
   "version": "3.9.0"
  }
 },
 "nbformat": 4,
 "nbformat_minor": 5
}
