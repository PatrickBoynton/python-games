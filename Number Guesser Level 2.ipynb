{
 "cells": [
  {
   "cell_type": "code",
   "execution_count": 1,
   "id": "reflected-intersection",
   "metadata": {},
   "outputs": [
    {
     "name": "stdout",
     "output_type": "stream",
     "text": [
      "My guess is: 9\n",
      "Pleasse pick a number between 1 and 10.\n",
      "Was my guess right? (y/n)n\n",
      "My new guess is: 8\n",
      "Was my guess right? (y/n)y\n",
      "I guessed your number!\n"
     ]
    }
   ],
   "source": [
    "import random\n",
    "\n",
    "guesses = 3\n",
    "\n",
    "cpu_guess = random.randint(1, 10)\n",
    "\n",
    "print(\"My guess is: \" + str(cpu_guess))\n",
    "\n",
    "print(\"Pleasse pick a number between 1 and 10.\")\n",
    "while(guesses > 0):\n",
    "    player_input = input(\"Was my guess right? (y/n)\")\n",
    "    \n",
    "    if(player_input == \"n\"):\n",
    "        cpu_guess = random.randint(1, 10)\n",
    "        print(\"My new guess is: \" + str(cpu_guess))\n",
    "    else:\n",
    "        print(\"I guessed your number!\")\n",
    "        break\n",
    "        "
   ]
  },
  {
   "cell_type": "code",
   "execution_count": null,
   "id": "suffering-proxy",
   "metadata": {},
   "outputs": [],
   "source": []
  },
  {
   "cell_type": "code",
   "execution_count": null,
   "id": "honey-national",
   "metadata": {},
   "outputs": [],
   "source": []
  }
 ],
 "metadata": {
  "kernelspec": {
   "display_name": "Python 3",
   "language": "python",
   "name": "python3"
  },
  "language_info": {
   "codemirror_mode": {
    "name": "ipython",
    "version": 3
   },
   "file_extension": ".py",
   "mimetype": "text/x-python",
   "name": "python",
   "nbconvert_exporter": "python",
   "pygments_lexer": "ipython3",
   "version": "3.9.0"
  }
 },
 "nbformat": 4,
 "nbformat_minor": 5
}
